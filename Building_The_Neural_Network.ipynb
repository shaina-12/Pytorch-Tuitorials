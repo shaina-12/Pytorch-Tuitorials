{
  "nbformat": 4,
  "nbformat_minor": 0,
  "metadata": {
    "colab": {
      "name": "Building The Neural Network.ipynb",
      "provenance": [],
      "authorship_tag": "ABX9TyN+0pUBL0zkkS8k6FH1eepY",
      "include_colab_link": true
    },
    "kernelspec": {
      "name": "python3",
      "display_name": "Python 3"
    },
    "language_info": {
      "name": "python"
    },
    "accelerator": "GPU"
  },
  "cells": [
    {
      "cell_type": "markdown",
      "metadata": {
        "id": "view-in-github",
        "colab_type": "text"
      },
      "source": [
        "<a href=\"https://colab.research.google.com/github/shaina-12/Pytorch-Tuitorials/blob/main/Building_The_Neural_Network.ipynb\" target=\"_parent\"><img src=\"https://colab.research.google.com/assets/colab-badge.svg\" alt=\"Open In Colab\"/></a>"
      ]
    },
    {
      "cell_type": "code",
      "execution_count": 1,
      "metadata": {
        "id": "Xj8ONhXCA84v"
      },
      "outputs": [],
      "source": [
        "import os\n",
        "import torch\n",
        "from torch import nn\n",
        "from torch.utils.data import DataLoader\n",
        "from torchvision import datasets, transforms"
      ]
    },
    {
      "cell_type": "code",
      "source": [
        "device = 'cuda' if torch.cuda.is_available() else 'cpu'\n",
        "print(f\"Using {device} device\")"
      ],
      "metadata": {
        "colab": {
          "base_uri": "https://localhost:8080/"
        },
        "id": "Hqhvi49rDn3i",
        "outputId": "603bc666-b82e-4f8c-d4da-dbcc732bf7e2"
      },
      "execution_count": 2,
      "outputs": [
        {
          "output_type": "stream",
          "name": "stdout",
          "text": [
            "Using cuda device\n"
          ]
        }
      ]
    },
    {
      "cell_type": "code",
      "source": [
        "class NeuralNetwork(nn.Module):\n",
        "  def __init__(self):\n",
        "    super(NeuralNetwork,self).__init__()\n",
        "    self.flatten = nn.Flatten()\n",
        "    self.linear_relu_stack = nn.Sequential(\n",
        "        nn.Linear(28*28, 512),\n",
        "        nn.ReLU(),\n",
        "        nn.Linear(512, 512),\n",
        "        nn.ReLU(),\n",
        "        nn.Linear(512, 10),\n",
        "    )\n",
        "  def forward(self,x):\n",
        "    x = self.flatten(x)\n",
        "    logits = self.linear_relu_stack(x)\n",
        "    return logits"
      ],
      "metadata": {
        "id": "60Nl-y0wD2Bl"
      },
      "execution_count": 3,
      "outputs": []
    },
    {
      "cell_type": "code",
      "source": [
        "model = NeuralNetwork().to(device)\n",
        "print(model)"
      ],
      "metadata": {
        "colab": {
          "base_uri": "https://localhost:8080/"
        },
        "id": "kdbONjxFDn89",
        "outputId": "ca328505-f4cb-4e4a-c735-2cef3f7733d2"
      },
      "execution_count": 4,
      "outputs": [
        {
          "output_type": "stream",
          "name": "stdout",
          "text": [
            "NeuralNetwork(\n",
            "  (flatten): Flatten(start_dim=1, end_dim=-1)\n",
            "  (linear_relu_stack): Sequential(\n",
            "    (0): Linear(in_features=784, out_features=512, bias=True)\n",
            "    (1): ReLU()\n",
            "    (2): Linear(in_features=512, out_features=512, bias=True)\n",
            "    (3): ReLU()\n",
            "    (4): Linear(in_features=512, out_features=10, bias=True)\n",
            "  )\n",
            ")\n"
          ]
        }
      ]
    },
    {
      "cell_type": "code",
      "source": [
        "X = torch.rand(1,28,28,device = device)\n",
        "logits = model(X)\n",
        "pred_probab = nn.Softmax(dim=1)(logits)\n",
        "y_pred = pred_probab.argmax(1)\n",
        "print(f\"Predicted class: {y_pred}\")"
      ],
      "metadata": {
        "colab": {
          "base_uri": "https://localhost:8080/"
        },
        "id": "ufPaRu0IDn_8",
        "outputId": "11b98b4a-20f2-4134-b7e7-6b3340f4b63d"
      },
      "execution_count": 5,
      "outputs": [
        {
          "output_type": "stream",
          "name": "stdout",
          "text": [
            "Predicted class: tensor([0], device='cuda:0')\n"
          ]
        }
      ]
    },
    {
      "cell_type": "code",
      "source": [
        "input_image = torch.rand(3,28,28)\n",
        "print(input_image.size())"
      ],
      "metadata": {
        "colab": {
          "base_uri": "https://localhost:8080/"
        },
        "id": "hmi_a8tiXBjJ",
        "outputId": "f7bd9078-84d4-4f20-bd3d-97bcbeb73b45"
      },
      "execution_count": 6,
      "outputs": [
        {
          "output_type": "stream",
          "name": "stdout",
          "text": [
            "torch.Size([3, 28, 28])\n"
          ]
        }
      ]
    },
    {
      "cell_type": "code",
      "source": [
        "flatten = nn.Flatten()\n",
        "flat_image = flatten(input_image)\n",
        "print(flat_image.size())"
      ],
      "metadata": {
        "colab": {
          "base_uri": "https://localhost:8080/"
        },
        "id": "W03N28OeXBmo",
        "outputId": "4c1d27d3-b5ba-46a3-95f0-b3d5b75fdb96"
      },
      "execution_count": 7,
      "outputs": [
        {
          "output_type": "stream",
          "name": "stdout",
          "text": [
            "torch.Size([3, 784])\n"
          ]
        }
      ]
    },
    {
      "cell_type": "code",
      "source": [
        "layer1 = nn.Linear(in_features=28*28,out_features=20)\n",
        "hidden1 = layer1(flat_image)\n",
        "print(hidden1.size())"
      ],
      "metadata": {
        "colab": {
          "base_uri": "https://localhost:8080/"
        },
        "id": "aVIYhrCPXBp-",
        "outputId": "632de4d3-b8e3-4a0b-ac47-d595a80c75a2"
      },
      "execution_count": 9,
      "outputs": [
        {
          "output_type": "stream",
          "name": "stdout",
          "text": [
            "torch.Size([3, 20])\n"
          ]
        }
      ]
    },
    {
      "cell_type": "code",
      "source": [
        "print(f\"Before ReLU: {hidden1}\\n\\n\")\n",
        "hidden1 = nn.ReLU()(hidden1)\n",
        "print(f\"After ReLU: {hidden1}\")"
      ],
      "metadata": {
        "colab": {
          "base_uri": "https://localhost:8080/"
        },
        "id": "ZsLHBtxVXB4J",
        "outputId": "b375e80e-5e19-49d1-c07e-6acea68ae2d9"
      },
      "execution_count": 11,
      "outputs": [
        {
          "output_type": "stream",
          "name": "stdout",
          "text": [
            "Before ReLU: tensor([[-0.0742, -0.2491,  0.7279, -0.1583, -0.2731,  0.0346, -0.2590, -0.4046,\n",
            "          0.1104, -0.3314,  0.4977,  0.0708,  0.1818, -0.3449, -0.1512,  0.1674,\n",
            "          0.1261, -0.8314,  0.5485,  0.1607],\n",
            "        [-0.1050, -0.4411,  0.4018,  0.1658, -0.5348,  0.0732,  0.0600,  0.0544,\n",
            "          0.1459, -0.1945,  0.7700,  0.1894,  0.2128, -0.2193,  0.1030,  0.4187,\n",
            "         -0.0911, -0.7264,  0.3636, -0.1651],\n",
            "        [ 0.1690, -0.3033,  0.4090, -0.1481, -0.1022,  0.0797,  0.0172, -0.0807,\n",
            "          0.1281,  0.2665,  0.7857,  0.0504,  0.0449,  0.0637, -0.0574,  0.1159,\n",
            "         -0.4110, -0.6744,  0.3951, -0.2797]], grad_fn=<AddmmBackward0>)\n",
            "\n",
            "\n",
            "After ReLU: tensor([[0.0000, 0.0000, 0.7279, 0.0000, 0.0000, 0.0346, 0.0000, 0.0000, 0.1104,\n",
            "         0.0000, 0.4977, 0.0708, 0.1818, 0.0000, 0.0000, 0.1674, 0.1261, 0.0000,\n",
            "         0.5485, 0.1607],\n",
            "        [0.0000, 0.0000, 0.4018, 0.1658, 0.0000, 0.0732, 0.0600, 0.0544, 0.1459,\n",
            "         0.0000, 0.7700, 0.1894, 0.2128, 0.0000, 0.1030, 0.4187, 0.0000, 0.0000,\n",
            "         0.3636, 0.0000],\n",
            "        [0.1690, 0.0000, 0.4090, 0.0000, 0.0000, 0.0797, 0.0172, 0.0000, 0.1281,\n",
            "         0.2665, 0.7857, 0.0504, 0.0449, 0.0637, 0.0000, 0.1159, 0.0000, 0.0000,\n",
            "         0.3951, 0.0000]], grad_fn=<ReluBackward0>)\n"
          ]
        }
      ]
    },
    {
      "cell_type": "code",
      "source": [
        "seq_modules = nn.Sequential(\n",
        "    flatten,\n",
        "    layer1,\n",
        "    nn.ReLU(),\n",
        "    nn.Linear(20,10)\n",
        ")\n",
        "input_image = torch.rand(3,28,28)\n",
        "logits = seq_modules(input_image)"
      ],
      "metadata": {
        "id": "yH7dC2K1DoDA"
      },
      "execution_count": 12,
      "outputs": []
    },
    {
      "cell_type": "code",
      "source": [
        "softmax = nn.Softmax(dim=1)\n",
        "pred_probab = softmax(logits)"
      ],
      "metadata": {
        "id": "bxavsF4zaCD9"
      },
      "execution_count": 13,
      "outputs": []
    },
    {
      "cell_type": "code",
      "source": [
        "logits"
      ],
      "metadata": {
        "colab": {
          "base_uri": "https://localhost:8080/"
        },
        "id": "bJE3rlBvaOXQ",
        "outputId": "d0c076ef-a511-4ccd-c887-4a63135aac0c"
      },
      "execution_count": 16,
      "outputs": [
        {
          "output_type": "execute_result",
          "data": {
            "text/plain": [
              "tensor([[-1.0453e-01,  5.3976e-05, -1.5451e-02,  1.4680e-01, -5.5819e-02,\n",
              "          3.0858e-01, -4.1289e-01,  4.9810e-03,  5.8520e-02, -1.0692e-01],\n",
              "        [-8.3357e-02, -6.6954e-02, -9.3299e-02,  1.4908e-01,  3.7005e-02,\n",
              "          2.0376e-01, -4.6633e-01,  1.2953e-01,  1.2632e-01, -9.5740e-02],\n",
              "        [-1.5753e-01, -7.9490e-02, -8.7367e-02,  1.1862e-01,  3.2427e-02,\n",
              "          2.4604e-01, -5.7190e-01,  6.6976e-02,  1.6440e-01, -1.2095e-01]],\n",
              "       grad_fn=<AddmmBackward0>)"
            ]
          },
          "metadata": {},
          "execution_count": 16
        }
      ]
    },
    {
      "cell_type": "code",
      "source": [
        "pred_probab"
      ],
      "metadata": {
        "colab": {
          "base_uri": "https://localhost:8080/"
        },
        "id": "sGrZyUXAaCIc",
        "outputId": "83be823c-bb1a-4ca0-eba9-5f118c742b6b"
      },
      "execution_count": 17,
      "outputs": [
        {
          "output_type": "execute_result",
          "data": {
            "text/plain": [
              "tensor([[0.0903, 0.1002, 0.0987, 0.1161, 0.0948, 0.1365, 0.0663, 0.1007, 0.1063,\n",
              "         0.0901],\n",
              "        [0.0920, 0.0935, 0.0911, 0.1161, 0.1038, 0.1226, 0.0627, 0.1138, 0.1135,\n",
              "         0.0909],\n",
              "        [0.0869, 0.0940, 0.0932, 0.1145, 0.1051, 0.1301, 0.0574, 0.1088, 0.1199,\n",
              "         0.0901]], grad_fn=<SoftmaxBackward0>)"
            ]
          },
          "metadata": {},
          "execution_count": 17
        }
      ]
    },
    {
      "cell_type": "code",
      "source": [
        "print(f\"Model structure: {model}\\n\\n\")\n",
        "for name, param in model.named_parameters():\n",
        "    print(f\"Layer: {name} | Size: {param.size()} | Values : {param[:2]} \\n\")"
      ],
      "metadata": {
        "colab": {
          "base_uri": "https://localhost:8080/"
        },
        "id": "GVAHv9D_aOif",
        "outputId": "9eedb63e-aabe-49e9-d771-160f96290d9f"
      },
      "execution_count": 18,
      "outputs": [
        {
          "output_type": "stream",
          "name": "stdout",
          "text": [
            "Model structure: NeuralNetwork(\n",
            "  (flatten): Flatten(start_dim=1, end_dim=-1)\n",
            "  (linear_relu_stack): Sequential(\n",
            "    (0): Linear(in_features=784, out_features=512, bias=True)\n",
            "    (1): ReLU()\n",
            "    (2): Linear(in_features=512, out_features=512, bias=True)\n",
            "    (3): ReLU()\n",
            "    (4): Linear(in_features=512, out_features=10, bias=True)\n",
            "  )\n",
            ")\n",
            "\n",
            "\n",
            "Layer: linear_relu_stack.0.weight | Size: torch.Size([512, 784]) | Values : tensor([[-0.0110,  0.0196, -0.0141,  ...,  0.0083,  0.0167,  0.0049],\n",
            "        [ 0.0158, -0.0094,  0.0229,  ..., -0.0026,  0.0321, -0.0172]],\n",
            "       device='cuda:0', grad_fn=<SliceBackward0>) \n",
            "\n",
            "Layer: linear_relu_stack.0.bias | Size: torch.Size([512]) | Values : tensor([0.0190, 0.0303], device='cuda:0', grad_fn=<SliceBackward0>) \n",
            "\n",
            "Layer: linear_relu_stack.2.weight | Size: torch.Size([512, 512]) | Values : tensor([[-0.0069, -0.0009, -0.0191,  ..., -0.0145,  0.0053, -0.0423],\n",
            "        [ 0.0277, -0.0373,  0.0379,  ..., -0.0094, -0.0377, -0.0348]],\n",
            "       device='cuda:0', grad_fn=<SliceBackward0>) \n",
            "\n",
            "Layer: linear_relu_stack.2.bias | Size: torch.Size([512]) | Values : tensor([ 0.0101, -0.0217], device='cuda:0', grad_fn=<SliceBackward0>) \n",
            "\n",
            "Layer: linear_relu_stack.4.weight | Size: torch.Size([10, 512]) | Values : tensor([[ 0.0383, -0.0008, -0.0143,  ..., -0.0015, -0.0065,  0.0387],\n",
            "        [-0.0393,  0.0366, -0.0226,  ..., -0.0410, -0.0237, -0.0226]],\n",
            "       device='cuda:0', grad_fn=<SliceBackward0>) \n",
            "\n",
            "Layer: linear_relu_stack.4.bias | Size: torch.Size([10]) | Values : tensor([-0.0242,  0.0405], device='cuda:0', grad_fn=<SliceBackward0>) \n",
            "\n"
          ]
        }
      ]
    },
    {
      "cell_type": "code",
      "source": [
        ""
      ],
      "metadata": {
        "id": "nVMOijAnaOlD"
      },
      "execution_count": null,
      "outputs": []
    },
    {
      "cell_type": "code",
      "source": [
        ""
      ],
      "metadata": {
        "id": "f3u0Z3oNaOns"
      },
      "execution_count": null,
      "outputs": []
    },
    {
      "cell_type": "code",
      "source": [
        ""
      ],
      "metadata": {
        "id": "hMyHsGhSaCLe"
      },
      "execution_count": null,
      "outputs": []
    },
    {
      "cell_type": "code",
      "source": [
        ""
      ],
      "metadata": {
        "id": "pZa8X6h3aCPR"
      },
      "execution_count": null,
      "outputs": []
    },
    {
      "cell_type": "code",
      "source": [
        ""
      ],
      "metadata": {
        "id": "RY8iAJogDm6c"
      },
      "execution_count": null,
      "outputs": []
    }
  ]
}