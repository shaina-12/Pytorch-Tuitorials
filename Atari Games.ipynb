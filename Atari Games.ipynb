{
 "cells": [
  {
   "cell_type": "markdown",
   "id": "0299493c",
   "metadata": {},
   "source": [
    "Importing Dependencies"
   ]
  },
  {
   "cell_type": "code",
   "execution_count": 1,
   "id": "873a33f0",
   "metadata": {},
   "outputs": [],
   "source": [
    "import gym\n",
    "from stable_baselines3 import A2C \n",
    "from stable_baselines3.common.vec_env import VecFrameStack \n",
    "from stable_baselines3.common.evaluation import evaluate_policy\n",
    "from stable_baselines3.common.env_util import make_atari_env # importing atari environment\n",
    "import os"
   ]
  },
  {
   "cell_type": "markdown",
   "id": "becf3a9e",
   "metadata": {},
   "source": [
    "Test Environment"
   ]
  },
  {
   "cell_type": "code",
   "execution_count": 2,
   "id": "16a8d0bd",
   "metadata": {},
   "outputs": [
    {
     "name": "stdout",
     "output_type": "stream",
     "text": [
      "copying adventure.bin from ./ROMS\\Adventure (1980) (Atari, Warren Robinett) (CX2613, CX2613P) (PAL).bin to C:\\anaconda3\\envs\\Pyton38\\lib\\site-packages\\atari_py\\atari_roms\\adventure.bin\n",
      "copying air_raid.bin from ./ROMS\\Air Raid (Men-A-Vision) (PAL) ~.bin to C:\\anaconda3\\envs\\Pyton38\\lib\\site-packages\\atari_py\\atari_roms\\air_raid.bin\n",
      "copying alien.bin from ./ROMS\\Alien (1982) (20th Century Fox Video Games, Douglas 'Dallas North' Neubauer) (11006) ~.bin to C:\\anaconda3\\envs\\Pyton38\\lib\\site-packages\\atari_py\\atari_roms\\alien.bin\n",
      "copying amidar.bin from ./ROMS\\Amidar (1982) (Parker Brothers, Ed Temple) (PB5310) ~.bin to C:\\anaconda3\\envs\\Pyton38\\lib\\site-packages\\atari_py\\atari_roms\\amidar.bin\n",
      "copying assault.bin from ./ROMS\\Assault (AKA Sky Alien) (1983) (Bomb - Onbase) (CA281).bin to C:\\anaconda3\\envs\\Pyton38\\lib\\site-packages\\atari_py\\atari_roms\\assault.bin\n",
      "copying asterix.bin from ./ROMS\\Asterix (AKA Taz) (1984) (Atari, Jerome Domurat, Steve Woita) (CX2696).bin to C:\\anaconda3\\envs\\Pyton38\\lib\\site-packages\\atari_py\\atari_roms\\asterix.bin\n",
      "copying asteroids.bin from ./ROMS\\Asteroids (1981) (Atari, Brad Stewart - Sears) (CX2649 - 49-75163) [no copyright] ~.bin to C:\\anaconda3\\envs\\Pyton38\\lib\\site-packages\\atari_py\\atari_roms\\asteroids.bin\n",
      "copying atlantis.bin from ./ROMS\\Atlantis (Lost City of Atlantis) (1982) (Imagic, Dennis Koble) (720103-1A, 720103-1B, IA3203, IX-010-04) ~.bin to C:\\anaconda3\\envs\\Pyton38\\lib\\site-packages\\atari_py\\atari_roms\\atlantis.bin\n",
      "copying bank_heist.bin from ./ROMS\\Bank Heist (Bonnie & Clyde, Cops 'n' Robbers, Hold-Up, Roaring 20's) (1983) (20th Century Fox Video Games, Bill Aspromonte) (11012) ~.bin to C:\\anaconda3\\envs\\Pyton38\\lib\\site-packages\\atari_py\\atari_roms\\bank_heist.bin\n",
      "copying battle_zone.bin from ./ROMS\\Battlezone (1983) (Atari - GCC, Mike Feinstein, Brad Rice) (CX2681) ~.bin to C:\\anaconda3\\envs\\Pyton38\\lib\\site-packages\\atari_py\\atari_roms\\battle_zone.bin\n",
      "copying beam_rider.bin from ./ROMS\\Beamrider (1984) (Activision - Cheshire Engineering, David Rolfe, Larry Zwick) (AZ-037-04) ~.bin to C:\\anaconda3\\envs\\Pyton38\\lib\\site-packages\\atari_py\\atari_roms\\beam_rider.bin\n",
      "copying berzerk.bin from ./ROMS\\Berzerk (1982) (Atari, Dan Hitchens - Sears) (CX2650 - 49-75168) ~.bin to C:\\anaconda3\\envs\\Pyton38\\lib\\site-packages\\atari_py\\atari_roms\\berzerk.bin\n",
      "copying bowling.bin from ./ROMS\\Bowling (1979) (Atari, Larry Kaplan - Sears) (CX2628 - 6-99842, 49-75117) ~.bin to C:\\anaconda3\\envs\\Pyton38\\lib\\site-packages\\atari_py\\atari_roms\\bowling.bin\n",
      "copying boxing.bin from ./ROMS\\Boxing - La Boxe (1980) (Activision, Bob Whitehead) (AG-002, CAG-002, AG-002-04) ~.bin to C:\\anaconda3\\envs\\Pyton38\\lib\\site-packages\\atari_py\\atari_roms\\boxing.bin\n",
      "copying breakout.bin from ./ROMS\\Breakout - Breakaway IV (Paddle) (1978) (Atari, Brad Stewart - Sears) (CX2622 - 6-99813, 49-75107) ~.bin to C:\\anaconda3\\envs\\Pyton38\\lib\\site-packages\\atari_py\\atari_roms\\breakout.bin\n",
      "copying carnival.bin from ./ROMS\\Carnival (1982) (Coleco - Woodside Design Associates, Steve 'Jessica Stevens' Kitchen) (2468) ~.bin to C:\\anaconda3\\envs\\Pyton38\\lib\\site-packages\\atari_py\\atari_roms\\carnival.bin\n",
      "copying centipede.bin from ./ROMS\\Centipede (1983) (Atari - GCC) (CX2676) ~.bin to C:\\anaconda3\\envs\\Pyton38\\lib\\site-packages\\atari_py\\atari_roms\\centipede.bin\n",
      "copying chopper_command.bin from ./ROMS\\Chopper Command (1982) (Activision, Bob Whitehead) (AX-015, AX-015-04) ~.bin to C:\\anaconda3\\envs\\Pyton38\\lib\\site-packages\\atari_py\\atari_roms\\chopper_command.bin\n",
      "copying crazy_climber.bin from ./ROMS\\Crazy Climber (1983) (Atari - Roklan, Joe Gaucher, Alex Leavens) (CX2683) ~.bin to C:\\anaconda3\\envs\\Pyton38\\lib\\site-packages\\atari_py\\atari_roms\\crazy_climber.bin\n",
      "copying defender.bin from ./ROMS\\Defender (1982) (Atari, Robert C. Polaro, Alan J. Murphy - Sears) (CX2609 - 49-75186) ~.bin to C:\\anaconda3\\envs\\Pyton38\\lib\\site-packages\\atari_py\\atari_roms\\defender.bin\n",
      "copying demon_attack.bin from ./ROMS\\Demon Attack (Death from Above) (1982) (Imagic, Rob Fulop) (720000-200, 720101-1B, 720101-1C, IA3200, IA3200C, IX-006-04) ~.bin to C:\\anaconda3\\envs\\Pyton38\\lib\\site-packages\\atari_py\\atari_roms\\demon_attack.bin\n",
      "copying donkey_kong.bin from ./ROMS\\Donkey Kong (1982) (Coleco - Woodside Design Associates - Imaginative Systems Software, Garry Kitchen) (2451) ~.bin to C:\\anaconda3\\envs\\Pyton38\\lib\\site-packages\\atari_py\\atari_roms\\donkey_kong.bin\n",
      "copying double_dunk.bin from ./ROMS\\Double Dunk (Super Basketball) (1989) (Atari, Matthew L. Hubbard) (CX26159) ~.bin to C:\\anaconda3\\envs\\Pyton38\\lib\\site-packages\\atari_py\\atari_roms\\double_dunk.bin\n",
      "copying elevator_action.bin from ./ROMS\\Elevator Action (1983) (Atari, Dan Hitchens) (CX26126) (Prototype) ~.bin to C:\\anaconda3\\envs\\Pyton38\\lib\\site-packages\\atari_py\\atari_roms\\elevator_action.bin\n",
      "copying enduro.bin from ./ROMS\\Enduro (1983) (Activision, Larry Miller) (AX-026, AX-026-04) ~.bin to C:\\anaconda3\\envs\\Pyton38\\lib\\site-packages\\atari_py\\atari_roms\\enduro.bin\n",
      "copying fishing_derby.bin from ./ROMS\\Fishing Derby (1980) (Activision, David Crane) (AG-004) ~.bin to C:\\anaconda3\\envs\\Pyton38\\lib\\site-packages\\atari_py\\atari_roms\\fishing_derby.bin\n",
      "copying freeway.bin from ./ROMS\\Freeway (1981) (Activision, David Crane) (AG-009, AG-009-04) ~.bin to C:\\anaconda3\\envs\\Pyton38\\lib\\site-packages\\atari_py\\atari_roms\\freeway.bin\n",
      "copying frogger.bin from ./ROMS\\Frogger (1982) (Parker Brothers, Ed English, David Lamkins) (PB5300) ~.bin to C:\\anaconda3\\envs\\Pyton38\\lib\\site-packages\\atari_py\\atari_roms\\frogger.bin\n",
      "copying frostbite.bin from ./ROMS\\Frostbite (Iceman) (1983) (Activision, Steve Cartwright) (AX-031) ~.bin to C:\\anaconda3\\envs\\Pyton38\\lib\\site-packages\\atari_py\\atari_roms\\frostbite.bin\n",
      "copying galaxian.bin from ./ROMS\\Galaxian (1983) (Atari - GCC, Mark Ackerman, Tom Calderwood, Glenn Parker) (CX2684) ~.bin to C:\\anaconda3\\envs\\Pyton38\\lib\\site-packages\\atari_py\\atari_roms\\galaxian.bin\n",
      "copying gopher.bin from ./ROMS\\Gopher (Gopher Attack) (1982) (U.S. Games Corporation - JWDA, Sylvia Day, Todd Marshall, Robin McDaniel, Henry Will IV) (VC2001) ~.bin to C:\\anaconda3\\envs\\Pyton38\\lib\\site-packages\\atari_py\\atari_roms\\gopher.bin\n",
      "copying gravitar.bin from ./ROMS\\Gravitar (1983) (Atari, Dan Hitchens, Mimi Nyden) (CX2685) ~.bin to C:\\anaconda3\\envs\\Pyton38\\lib\\site-packages\\atari_py\\atari_roms\\gravitar.bin\n",
      "copying hero.bin from ./ROMS\\H.E.R.O. (1984) (Activision, John Van Ryzin) (AZ-036-04) ~.bin to C:\\anaconda3\\envs\\Pyton38\\lib\\site-packages\\atari_py\\atari_roms\\hero.bin\n",
      "copying ice_hockey.bin from ./ROMS\\Ice Hockey - Le Hockey Sur Glace (1981) (Activision, Alan Miller) (AX-012, CAX-012, AX-012-04) ~.bin to C:\\anaconda3\\envs\\Pyton38\\lib\\site-packages\\atari_py\\atari_roms\\ice_hockey.bin\n",
      "copying jamesbond.bin from ./ROMS\\James Bond 007 (James Bond Agent 007) (1984) (Parker Brothers - On-Time Software, Joe Gaucher, Dan Kurczewski, Louis Marbel, Kathy Von) (PB5110) ~.bin to C:\\anaconda3\\envs\\Pyton38\\lib\\site-packages\\atari_py\\atari_roms\\jamesbond.bin\n",
      "copying journey_escape.bin from ./ROMS\\Journey Escape (1983) (Data Age, J. Ray Dettling) (112-006) ~.bin to C:\\anaconda3\\envs\\Pyton38\\lib\\site-packages\\atari_py\\atari_roms\\journey_escape.bin\n",
      "copying kaboom.bin from ./ROMS\\Kaboom! (Paddle) (1981) (Activision, Larry Kaplan, David Crane) (AG-010, CAG-010, AG-010-04) ~.bin to C:\\anaconda3\\envs\\Pyton38\\lib\\site-packages\\atari_py\\atari_roms\\kaboom.bin\n",
      "copying kangaroo.bin from ./ROMS\\Kangaroo (1983) (Atari - GCC, Kevin Osborn) (CX2689) ~.bin to C:\\anaconda3\\envs\\Pyton38\\lib\\site-packages\\atari_py\\atari_roms\\kangaroo.bin\n",
      "copying keystone_kapers.bin from ./ROMS\\Keystone Kapers - Raueber und Gendarm (1983) (Activision, Garry Kitchen - Ariola) (EAX-025, EAX-025-04I - 711 025-725) (PAL).bin to C:\\anaconda3\\envs\\Pyton38\\lib\\site-packages\\atari_py\\atari_roms\\keystone_kapers.bin\n",
      "copying king_kong.bin from ./ROMS\\King Kong (1982) (Tigervision - Software Electronics Corporation, Karl T. Olinger - Teldec) (7-001 - 3.60001 VE) (PAL).bin to C:\\anaconda3\\envs\\Pyton38\\lib\\site-packages\\atari_py\\atari_roms\\king_kong.bin\n",
      "copying koolaid.bin from ./ROMS\\Kool-Aid Man (Kool Aid Pitcher Man) (1983) (M Network, Stephen Tatsumi, Jane Terjung - Kool Aid) (MT4648) ~.bin to C:\\anaconda3\\envs\\Pyton38\\lib\\site-packages\\atari_py\\atari_roms\\koolaid.bin\n",
      "copying krull.bin from ./ROMS\\Krull (1983) (Atari, Jerome Domurat, Dave Staugas) (CX2682) ~.bin to C:\\anaconda3\\envs\\Pyton38\\lib\\site-packages\\atari_py\\atari_roms\\krull.bin\n",
      "copying kung_fu_master.bin from ./ROMS\\Kung-Fu Master (1987) (Activision - Imagineering, Dan Kitchen, Garry Kitchen) (AG-039-04) ~.bin to C:\\anaconda3\\envs\\Pyton38\\lib\\site-packages\\atari_py\\atari_roms\\kung_fu_master.bin\n",
      "copying laser_gates.bin from ./ROMS\\Laser Gates (AKA Innerspace) (1983) (Imagic, Dan Oliver) (720118-2A, 13208, EIX-007-04I) (PAL).bin to C:\\anaconda3\\envs\\Pyton38\\lib\\site-packages\\atari_py\\atari_roms\\laser_gates.bin\n",
      "copying lost_luggage.bin from ./ROMS\\Lost Luggage (Airport Mayhem) (1982) (Apollo - Games by Apollo, Larry Minor, Ernie Runyon, Ed Salvo) (AP-2004) [no opening scene] ~.bin to C:\\anaconda3\\envs\\Pyton38\\lib\\site-packages\\atari_py\\atari_roms\\lost_luggage.bin\n",
      "copying montezuma_revenge.bin from ./ROMS\\Montezuma's Revenge - Featuring Panama Joe (1984) (Parker Brothers - JWDA, Henry Will IV) (PB5760) ~.bin to C:\\anaconda3\\envs\\Pyton38\\lib\\site-packages\\atari_py\\atari_roms\\montezuma_revenge.bin\n",
      "copying mr_do.bin from ./ROMS\\Mr. Do! (1983) (CBS Electronics - Individeo, Ed English) (4L4478) (PAL).bin to C:\\anaconda3\\envs\\Pyton38\\lib\\site-packages\\atari_py\\atari_roms\\mr_do.bin\n",
      "copying ms_pacman.bin from ./ROMS\\Ms. Pac-Man (1983) (Atari - GCC, Mark Ackerman, Glenn Parker) (CX2675) ~.bin to C:\\anaconda3\\envs\\Pyton38\\lib\\site-packages\\atari_py\\atari_roms\\ms_pacman.bin\n",
      "copying name_this_game.bin from ./ROMS\\Name This Game (Guardians of Treasure, Octopussy) (1983) (U.S. Games Corporation - JWDA, Roger Booth, Sylvia Day, Ron Dubren, Todd Marshall, Robin McDaniel, Wes Trager, Henry Will IV) (VC1007) ~.bin to C:\\anaconda3\\envs\\Pyton38\\lib\\site-packages\\atari_py\\atari_roms\\name_this_game.bin\n",
      "copying pacman.bin from ./ROMS\\Pac-Man (1982) (Atari, Tod Frye) (CX2646) (PAL).bin to C:\\anaconda3\\envs\\Pyton38\\lib\\site-packages\\atari_py\\atari_roms\\pacman.bin\n",
      "copying phoenix.bin from ./ROMS\\Phoenix (1983) (Atari - GCC, Mike Feinstein, John Mracek) (CX2673) ~.bin to C:\\anaconda3\\envs\\Pyton38\\lib\\site-packages\\atari_py\\atari_roms\\phoenix.bin\n",
      "copying video_pinball.bin from ./ROMS\\Pinball (AKA Video Pinball) (Zellers).bin to C:\\anaconda3\\envs\\Pyton38\\lib\\site-packages\\atari_py\\atari_roms\\video_pinball.bin\n",
      "copying pitfall.bin from ./ROMS\\Pitfall! - Pitfall Harry's Jungle Adventure (Jungle Runner) (1982) (Activision, David Crane) (AX-018, AX-018-04) ~.bin to C:\\anaconda3\\envs\\Pyton38\\lib\\site-packages\\atari_py\\atari_roms\\pitfall.bin\n",
      "copying pooyan.bin from ./ROMS\\Pooyan (1983) (Konami) (RC 100-X 02) ~.bin to C:\\anaconda3\\envs\\Pyton38\\lib\\site-packages\\atari_py\\atari_roms\\pooyan.bin\n",
      "copying private_eye.bin from ./ROMS\\Private Eye (1984) (Activision, Bob Whitehead) (AG-034-04) ~.bin to C:\\anaconda3\\envs\\Pyton38\\lib\\site-packages\\atari_py\\atari_roms\\private_eye.bin\n",
      "copying qbert.bin from ./ROMS\\Q-bert (1983) (Parker Brothers - Western Technologies, Dave Hampton, Tom Sloper) (PB5360) ~.bin to C:\\anaconda3\\envs\\Pyton38\\lib\\site-packages\\atari_py\\atari_roms\\qbert.bin\n",
      "copying riverraid.bin from ./ROMS\\River Raid (1982) (Activision, Carol Shaw) (AX-020, AX-020-04) ~.bin to C:\\anaconda3\\envs\\Pyton38\\lib\\site-packages\\atari_py\\atari_roms\\riverraid.bin\n",
      "copying road_runner.bin from patched version of ./ROMS\\Road Runner (1989) (Atari - Bobco, Robert C. Polaro) (CX2663) ~.bin to C:\\anaconda3\\envs\\Pyton38\\lib\\site-packages\\atari_py\\atari_roms\\road_runner.bin\n",
      "copying robotank.bin from ./ROMS\\Robot Tank (Robotank) (1983) (Activision, Alan Miller) (AZ-028, AG-028-04) ~.bin to C:\\anaconda3\\envs\\Pyton38\\lib\\site-packages\\atari_py\\atari_roms\\robotank.bin\n",
      "copying seaquest.bin from ./ROMS\\Seaquest (1983) (Activision, Steve Cartwright) (AX-022) ~.bin to C:\\anaconda3\\envs\\Pyton38\\lib\\site-packages\\atari_py\\atari_roms\\seaquest.bin\n",
      "copying sir_lancelot.bin from ./ROMS\\Sir Lancelot (1983) (Xonox - K-Tel Software - Product Guild, Anthony R. Henderson) (99006, 6220) (PAL).bin to C:\\anaconda3\\envs\\Pyton38\\lib\\site-packages\\atari_py\\atari_roms\\sir_lancelot.bin\n",
      "copying skiing.bin from ./ROMS\\Skiing - Le Ski (1980) (Activision, Bob Whitehead) (AG-005, CAG-005, AG-005-04) ~.bin to C:\\anaconda3\\envs\\Pyton38\\lib\\site-packages\\atari_py\\atari_roms\\skiing.bin\n",
      "copying solaris.bin from ./ROMS\\Solaris (The Last Starfighter, Star Raiders II, Universe) (1986) (Atari, Douglas Neubauer, Mimi Nyden) (CX26136) ~.bin to C:\\anaconda3\\envs\\Pyton38\\lib\\site-packages\\atari_py\\atari_roms\\solaris.bin\n",
      "copying space_invaders.bin from ./ROMS\\Space Invaders (1980) (Atari, Richard Maurer - Sears) (CX2632 - 49-75153) ~.bin to C:\\anaconda3\\envs\\Pyton38\\lib\\site-packages\\atari_py\\atari_roms\\space_invaders.bin\n",
      "copying star_gunner.bin from ./ROMS\\Stargunner (1983) (Telesys, Alex Leavens) (1005) ~.bin to C:\\anaconda3\\envs\\Pyton38\\lib\\site-packages\\atari_py\\atari_roms\\star_gunner.bin\n",
      "copying surround.bin from ./ROMS\\Surround (32 in 1) (Bit Corporation) (R320).bin to C:\\anaconda3\\envs\\Pyton38\\lib\\site-packages\\atari_py\\atari_roms\\surround.bin\n",
      "copying tennis.bin from ./ROMS\\Tennis - Le Tennis (1981) (Activision, Alan Miller) (AG-007, CAG-007) ~.bin to C:\\anaconda3\\envs\\Pyton38\\lib\\site-packages\\atari_py\\atari_roms\\tennis.bin\n",
      "copying time_pilot.bin from ./ROMS\\Time Pilot (1983) (Coleco - Woodside Design Associates, Harley H. Puthuff Jr.) (2663) ~.bin to C:\\anaconda3\\envs\\Pyton38\\lib\\site-packages\\atari_py\\atari_roms\\time_pilot.bin\n",
      "copying trondead.bin from ./ROMS\\TRON - Deadly Discs (TRON Joystick) (1983) (M Network - INTV - APh Technological Consulting, Jeff Ronne, Brett Stutz) (MT5662) ~.bin to C:\\anaconda3\\envs\\Pyton38\\lib\\site-packages\\atari_py\\atari_roms\\trondead.bin\n",
      "copying tutankham.bin from ./ROMS\\Tutankham (1983) (Parker Brothers, Dave Engman, Dawn Stockbridge) (PB5340) ~.bin to C:\\anaconda3\\envs\\Pyton38\\lib\\site-packages\\atari_py\\atari_roms\\tutankham.bin\n",
      "copying up_n_down.bin from ./ROMS\\Up 'n Down (1984) (SEGA - Beck-Tech, Steve Beck, Phat Ho) (009-01) ~.bin to C:\\anaconda3\\envs\\Pyton38\\lib\\site-packages\\atari_py\\atari_roms\\up_n_down.bin\n",
      "copying venture.bin from ./ROMS\\Venture (1982) (Coleco, Joseph Biel) (2457) ~.bin to C:\\anaconda3\\envs\\Pyton38\\lib\\site-packages\\atari_py\\atari_roms\\venture.bin\n",
      "copying pong.bin from ./ROMS\\Video Olympics - Pong Sports (Paddle) (1977) (Atari, Joe Decuir - Sears) (CX2621 - 99806, 6-99806, 49-75104) ~.bin to C:\\anaconda3\\envs\\Pyton38\\lib\\site-packages\\atari_py\\atari_roms\\pong.bin\n",
      "copying wizard_of_wor.bin from ./ROMS\\Wizard of Wor (1982) (CBS Electronics - Roklan, Joe Hellesen, Joe Wagner) (M8774, M8794) ~.bin to C:\\anaconda3\\envs\\Pyton38\\lib\\site-packages\\atari_py\\atari_roms\\wizard_of_wor.bin\n",
      "copying yars_revenge.bin from ./ROMS\\Yars' Revenge (Time Freeze) (1982) (Atari, Howard Scott Warshaw - Sears) (CX2655 - 49-75167) ~.bin to C:\\anaconda3\\envs\\Pyton38\\lib\\site-packages\\atari_py\\atari_roms\\yars_revenge.bin\n",
      "copying zaxxon.bin from ./ROMS\\Zaxxon (1983) (Coleco) (2454) ~.bin to C:\\anaconda3\\envs\\Pyton38\\lib\\site-packages\\atari_py\\atari_roms\\zaxxon.bin\n"
     ]
    }
   ],
   "source": [
    "!python -m atari_py.import_roms ./ROMS"
   ]
  },
  {
   "cell_type": "code",
   "execution_count": 3,
   "id": "46625ba1",
   "metadata": {},
   "outputs": [],
   "source": [
    "environment_name = \"Breakout-v0\""
   ]
  },
  {
   "cell_type": "code",
   "execution_count": 4,
   "id": "d8ca1de9",
   "metadata": {},
   "outputs": [],
   "source": [
    "env = gym.make('Breakout-v0')"
   ]
  },
  {
   "cell_type": "code",
   "execution_count": 5,
   "id": "ac7c8cd8",
   "metadata": {
    "scrolled": true
   },
   "outputs": [
    {
     "name": "stdout",
     "output_type": "stream",
     "text": [
      "Episode:1 Score:0.0\n",
      "Episode:2 Score:2.0\n",
      "Episode:3 Score:2.0\n",
      "Episode:4 Score:2.0\n",
      "Episode:5 Score:0.0\n"
     ]
    }
   ],
   "source": [
    "episodes = 5\n",
    "for episode in range(1, episodes+1):\n",
    "    state = env.reset()\n",
    "    done = False\n",
    "    score = 0 \n",
    "    while not done:\n",
    "        env.render(mode='rgb_array')\n",
    "        action = env.action_space.sample()\n",
    "        n_state, reward, done, info = env.step(action)\n",
    "        score+=reward\n",
    "    print('Episode:{} Score:{}'.format(episode, score))\n",
    "env.close()"
   ]
  },
  {
   "cell_type": "code",
   "execution_count": 6,
   "id": "98730de7",
   "metadata": {},
   "outputs": [
    {
     "data": {
      "text/plain": [
       "2"
      ]
     },
     "execution_count": 6,
     "metadata": {},
     "output_type": "execute_result"
    }
   ],
   "source": [
    "env.action_space.sample()"
   ]
  },
  {
   "cell_type": "code",
   "execution_count": 7,
   "id": "2270a7e9",
   "metadata": {},
   "outputs": [
    {
     "data": {
      "text/plain": [
       "array([[[ 22,  35, 250],\n",
       "        [ 41,  55,  19],\n",
       "        [ 86, 205, 181],\n",
       "        ...,\n",
       "        [ 17,  29, 132],\n",
       "        [218, 103, 188],\n",
       "        [215, 125,  77]],\n",
       "\n",
       "       [[153, 138, 155],\n",
       "        [118, 148,   7],\n",
       "        [109, 196, 248],\n",
       "        ...,\n",
       "        [133,  17, 207],\n",
       "        [ 74, 131, 251],\n",
       "        [143, 242, 128]],\n",
       "\n",
       "       [[ 58, 196, 104],\n",
       "        [  0, 198,  16],\n",
       "        [ 17, 171, 160],\n",
       "        ...,\n",
       "        [ 61, 165, 135],\n",
       "        [ 55,  71, 191],\n",
       "        [134,  40,  57]],\n",
       "\n",
       "       ...,\n",
       "\n",
       "       [[149,  44,  21],\n",
       "        [182, 203, 246],\n",
       "        [133, 242, 241],\n",
       "        ...,\n",
       "        [236, 205, 150],\n",
       "        [222,  41, 170],\n",
       "        [ 75, 178, 113]],\n",
       "\n",
       "       [[234, 203, 101],\n",
       "        [206, 123, 243],\n",
       "        [ 69, 172, 142],\n",
       "        ...,\n",
       "        [ 13, 132,  49],\n",
       "        [162,  62, 213],\n",
       "        [169, 140, 156]],\n",
       "\n",
       "       [[161, 174, 219],\n",
       "        [ 87, 195, 166],\n",
       "        [189,  40, 172],\n",
       "        ...,\n",
       "        [ 38, 202, 223],\n",
       "        [ 81, 154, 175],\n",
       "        [100,  99,  85]]], dtype=uint8)"
      ]
     },
     "execution_count": 7,
     "metadata": {},
     "output_type": "execute_result"
    }
   ],
   "source": [
    "env.observation_space.sample()"
   ]
  },
  {
   "cell_type": "code",
   "execution_count": 8,
   "id": "05a293ec",
   "metadata": {},
   "outputs": [],
   "source": [
    "env = make_atari_env('Breakout-v0', n_envs=4, seed=0)"
   ]
  },
  {
   "cell_type": "code",
   "execution_count": 9,
   "id": "c2de1866",
   "metadata": {},
   "outputs": [],
   "source": [
    "env = VecFrameStack(env, n_stack=4)"
   ]
  },
  {
   "cell_type": "code",
   "execution_count": 10,
   "id": "6736a35d",
   "metadata": {},
   "outputs": [],
   "source": [
    "log_path = os.path.join('Training', 'Logs')"
   ]
  },
  {
   "cell_type": "code",
   "execution_count": 11,
   "id": "7562d86d",
   "metadata": {},
   "outputs": [
    {
     "name": "stdout",
     "output_type": "stream",
     "text": [
      "Using cpu device\n",
      "Wrapping the env in a VecTransposeImage.\n",
      "Logging to Training\\Logs\\A2C_1\n",
      "------------------------------------\n",
      "| rollout/              |          |\n",
      "|    ep_len_mean        | 275      |\n",
      "|    ep_rew_mean        | 1.46     |\n",
      "| time/                 |          |\n",
      "|    fps                | 148      |\n",
      "|    iterations         | 100      |\n",
      "|    time_elapsed       | 13       |\n",
      "|    total_timesteps    | 2000     |\n",
      "| train/                |          |\n",
      "|    entropy_loss       | -1.39    |\n",
      "|    explained_variance | 0.0669   |\n",
      "|    learning_rate      | 0.0007   |\n",
      "|    n_updates          | 99       |\n",
      "|    policy_loss        | 0.0399   |\n",
      "|    value_loss         | 0.0542   |\n",
      "------------------------------------\n",
      "------------------------------------\n",
      "| rollout/              |          |\n",
      "|    ep_len_mean        | 270      |\n",
      "|    ep_rew_mean        | 1.38     |\n",
      "| time/                 |          |\n",
      "|    fps                | 138      |\n",
      "|    iterations         | 200      |\n",
      "|    time_elapsed       | 28       |\n",
      "|    total_timesteps    | 4000     |\n",
      "| train/                |          |\n",
      "|    entropy_loss       | -1.38    |\n",
      "|    explained_variance | 0.136    |\n",
      "|    learning_rate      | 0.0007   |\n",
      "|    n_updates          | 199      |\n",
      "|    policy_loss        | 0.436    |\n",
      "|    value_loss         | 0.449    |\n",
      "------------------------------------\n",
      "------------------------------------\n",
      "| rollout/              |          |\n",
      "|    ep_len_mean        | 279      |\n",
      "|    ep_rew_mean        | 1.54     |\n",
      "| time/                 |          |\n",
      "|    fps                | 125      |\n",
      "|    iterations         | 300      |\n",
      "|    time_elapsed       | 47       |\n",
      "|    total_timesteps    | 6000     |\n",
      "| train/                |          |\n",
      "|    entropy_loss       | -1.38    |\n",
      "|    explained_variance | 0.219    |\n",
      "|    learning_rate      | 0.0007   |\n",
      "|    n_updates          | 299      |\n",
      "|    policy_loss        | 0.533    |\n",
      "|    value_loss         | 0.405    |\n",
      "------------------------------------\n",
      "------------------------------------\n",
      "| rollout/              |          |\n",
      "|    ep_len_mean        | 289      |\n",
      "|    ep_rew_mean        | 1.69     |\n",
      "| time/                 |          |\n",
      "|    fps                | 125      |\n",
      "|    iterations         | 400      |\n",
      "|    time_elapsed       | 63       |\n",
      "|    total_timesteps    | 8000     |\n",
      "| train/                |          |\n",
      "|    entropy_loss       | -1.31    |\n",
      "|    explained_variance | 0.877    |\n",
      "|    learning_rate      | 0.0007   |\n",
      "|    n_updates          | 399      |\n",
      "|    policy_loss        | -0.0517  |\n",
      "|    value_loss         | 0.0504   |\n",
      "------------------------------------\n",
      "------------------------------------\n",
      "| rollout/              |          |\n",
      "|    ep_len_mean        | 303      |\n",
      "|    ep_rew_mean        | 1.95     |\n",
      "| time/                 |          |\n",
      "|    fps                | 132      |\n",
      "|    iterations         | 500      |\n",
      "|    time_elapsed       | 75       |\n",
      "|    total_timesteps    | 10000    |\n",
      "| train/                |          |\n",
      "|    entropy_loss       | -1.23    |\n",
      "|    explained_variance | 0.921    |\n",
      "|    learning_rate      | 0.0007   |\n",
      "|    n_updates          | 499      |\n",
      "|    policy_loss        | -0.0115  |\n",
      "|    value_loss         | 0.0573   |\n",
      "------------------------------------\n",
      "------------------------------------\n",
      "| rollout/              |          |\n",
      "|    ep_len_mean        | 318      |\n",
      "|    ep_rew_mean        | 2.24     |\n",
      "| time/                 |          |\n",
      "|    fps                | 134      |\n",
      "|    iterations         | 600      |\n",
      "|    time_elapsed       | 88       |\n",
      "|    total_timesteps    | 12000    |\n",
      "| train/                |          |\n",
      "|    entropy_loss       | -1.29    |\n",
      "|    explained_variance | 0.827    |\n",
      "|    learning_rate      | 0.0007   |\n",
      "|    n_updates          | 599      |\n",
      "|    policy_loss        | -0.0812  |\n",
      "|    value_loss         | 0.0172   |\n",
      "------------------------------------\n",
      "------------------------------------\n",
      "| rollout/              |          |\n",
      "|    ep_len_mean        | 334      |\n",
      "|    ep_rew_mean        | 2.52     |\n",
      "| time/                 |          |\n",
      "|    fps                | 136      |\n",
      "|    iterations         | 700      |\n",
      "|    time_elapsed       | 102      |\n",
      "|    total_timesteps    | 14000    |\n",
      "| train/                |          |\n",
      "|    entropy_loss       | -1.28    |\n",
      "|    explained_variance | 0.327    |\n",
      "|    learning_rate      | 0.0007   |\n",
      "|    n_updates          | 699      |\n",
      "|    policy_loss        | 0.335    |\n",
      "|    value_loss         | 0.28     |\n",
      "------------------------------------\n",
      "------------------------------------\n",
      "| rollout/              |          |\n",
      "|    ep_len_mean        | 332      |\n",
      "|    ep_rew_mean        | 2.53     |\n",
      "| time/                 |          |\n",
      "|    fps                | 139      |\n",
      "|    iterations         | 800      |\n",
      "|    time_elapsed       | 114      |\n",
      "|    total_timesteps    | 16000    |\n",
      "| train/                |          |\n",
      "|    entropy_loss       | -1.11    |\n",
      "|    explained_variance | 0.663    |\n",
      "|    learning_rate      | 0.0007   |\n",
      "|    n_updates          | 799      |\n",
      "|    policy_loss        | -0.18    |\n",
      "|    value_loss         | 0.0634   |\n",
      "------------------------------------\n",
      "------------------------------------\n",
      "| rollout/              |          |\n",
      "|    ep_len_mean        | 343      |\n",
      "|    ep_rew_mean        | 2.83     |\n",
      "| time/                 |          |\n",
      "|    fps                | 142      |\n",
      "|    iterations         | 900      |\n",
      "|    time_elapsed       | 125      |\n",
      "|    total_timesteps    | 18000    |\n",
      "| train/                |          |\n",
      "|    entropy_loss       | -1.1     |\n",
      "|    explained_variance | 0.655    |\n",
      "|    learning_rate      | 0.0007   |\n",
      "|    n_updates          | 899      |\n",
      "|    policy_loss        | 0.0327   |\n",
      "|    value_loss         | 0.231    |\n",
      "------------------------------------\n",
      "------------------------------------\n",
      "| rollout/              |          |\n",
      "|    ep_len_mean        | 352      |\n",
      "|    ep_rew_mean        | 3.11     |\n",
      "| time/                 |          |\n",
      "|    fps                | 145      |\n",
      "|    iterations         | 1000     |\n",
      "|    time_elapsed       | 137      |\n",
      "|    total_timesteps    | 20000    |\n",
      "| train/                |          |\n",
      "|    entropy_loss       | -0.863   |\n",
      "|    explained_variance | 0.593    |\n",
      "|    learning_rate      | 0.0007   |\n",
      "|    n_updates          | 999      |\n",
      "|    policy_loss        | 0.0174   |\n",
      "|    value_loss         | 0.134    |\n",
      "------------------------------------\n"
     ]
    },
    {
     "data": {
      "text/plain": [
       "<stable_baselines3.a2c.a2c.A2C at 0x212b1205520>"
      ]
     },
     "execution_count": 11,
     "metadata": {},
     "output_type": "execute_result"
    }
   ],
   "source": [
    "model = A2C(\"CnnPolicy\", env, verbose=1, tensorboard_log=log_path)\n",
    "model.learn(total_timesteps=20000)"
   ]
  },
  {
   "cell_type": "code",
   "execution_count": 12,
   "id": "ee13a2c0",
   "metadata": {},
   "outputs": [],
   "source": [
    "a2c_path = os.path.join('Training', 'Saved Models', 'A2C_model')"
   ]
  },
  {
   "cell_type": "code",
   "execution_count": 13,
   "id": "577d2f3c",
   "metadata": {},
   "outputs": [],
   "source": [
    "model.save(a2c_path)"
   ]
  },
  {
   "cell_type": "code",
   "execution_count": 14,
   "id": "9e6782cc",
   "metadata": {},
   "outputs": [],
   "source": [
    "del model"
   ]
  },
  {
   "cell_type": "code",
   "execution_count": 15,
   "id": "c524513c",
   "metadata": {},
   "outputs": [],
   "source": [
    "#env = make_atari_env('Breakout-v0', n_envs=1, seed=0)\n",
    "#env = VecFrameStack(env, n_stack=4)\n",
    "env = make_atari_env('Breakout-v0', n_envs=1, seed=0)\n",
    "env = VecFrameStack(env, n_stack=4)"
   ]
  },
  {
   "cell_type": "code",
   "execution_count": 16,
   "id": "cc99dbdf",
   "metadata": {},
   "outputs": [],
   "source": [
    "model = A2C.load(a2c_path)"
   ]
  },
  {
   "cell_type": "code",
   "execution_count": 17,
   "id": "04d25151",
   "metadata": {},
   "outputs": [
    {
     "name": "stderr",
     "output_type": "stream",
     "text": [
      "C:\\anaconda3\\envs\\Pyton38\\lib\\site-packages\\pyglet\\image\\codecs\\wic.py:289: UserWarning: [WinError -2147417850] Cannot change thread mode after it is set\n",
      "  warnings.warn(str(err))\n"
     ]
    },
    {
     "data": {
      "text/plain": [
       "(5.0, 1.5491933384829668)"
      ]
     },
     "execution_count": 17,
     "metadata": {},
     "output_type": "execute_result"
    }
   ],
   "source": [
    "evaluate_policy(model, env, n_eval_episodes=10, render=True)"
   ]
  },
  {
   "cell_type": "code",
   "execution_count": 18,
   "id": "58f4ffb2",
   "metadata": {},
   "outputs": [],
   "source": [
    "env.close()"
   ]
  },
  {
   "cell_type": "code",
   "execution_count": 29,
   "id": "203355cb",
   "metadata": {},
   "outputs": [],
   "source": [
    "obs = env.reset()\n",
    "val = True\n",
    "itr = 0\n",
    "while (val==True):\n",
    "    action, _states = model.predict(obs)\n",
    "    obs, rewards, dones, info = env.step(action)\n",
    "    env.render()\n",
    "    itr = itr + 1\n",
    "    if(itr==10):\n",
    "        val = False"
   ]
  },
  {
   "cell_type": "code",
   "execution_count": 30,
   "id": "aebf5ba7",
   "metadata": {},
   "outputs": [],
   "source": [
    "env.close()"
   ]
  },
  {
   "cell_type": "code",
   "execution_count": null,
   "id": "5b595a71",
   "metadata": {},
   "outputs": [],
   "source": []
  }
 ],
 "metadata": {
  "kernelspec": {
   "display_name": "Python 3 (ipykernel)",
   "language": "python",
   "name": "python3"
  },
  "language_info": {
   "codemirror_mode": {
    "name": "ipython",
    "version": 3
   },
   "file_extension": ".py",
   "mimetype": "text/x-python",
   "name": "python",
   "nbconvert_exporter": "python",
   "pygments_lexer": "ipython3",
   "version": "3.8.13"
  }
 },
 "nbformat": 4,
 "nbformat_minor": 5
}
